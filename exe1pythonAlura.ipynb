{
  "nbformat": 4,
  "nbformat_minor": 0,
  "metadata": {
    "colab": {
      "provenance": [],
      "authorship_tag": "ABX9TyNp6UPxziA0yBM4P9kBsZMo",
      "include_colab_link": true
    },
    "kernelspec": {
      "name": "python3",
      "display_name": "Python 3"
    },
    "language_info": {
      "name": "python"
    }
  },
  "cells": [
    {
      "cell_type": "markdown",
      "metadata": {
        "id": "view-in-github",
        "colab_type": "text"
      },
      "source": [
        "<a href=\"https://colab.research.google.com/github/mschlemper/alura/blob/main/exe1pythonAlura.ipynb\" target=\"_parent\"><img src=\"https://colab.research.google.com/assets/colab-badge.svg\" alt=\"Open In Colab\"/></a>"
      ]
    },
    {
      "cell_type": "code",
      "execution_count": 1,
      "metadata": {
        "colab": {
          "base_uri": "https://localhost:8080/"
        },
        "id": "arR1nLQ8NhBB",
        "outputId": "6a6e125a-704d-4edb-ee3d-b60341b57ade"
      },
      "outputs": [
        {
          "output_type": "stream",
          "name": "stdout",
          "text": [
            "Digite o primeiro número: 45\n",
            "Digite o segundo número: 7\n",
            "O resultado da divisão é: 6.43\n"
          ]
        }
      ],
      "source": [
        "try:\n",
        "    num1 = float(input(\"Digite o primeiro número: \"))\n",
        "    num2 = float(input(\"Digite o segundo número: \"))\n",
        "\n",
        "    resultado = num1 / num2\n",
        "    print(f\"O resultado da divisão é: {resultado:.2f}\")\n",
        "\n",
        "except ValueError as ve:\n",
        "    print(type(ve), \"Erro: Entrada inválida. Por favor, digite números válidos.\")\n",
        "\n",
        "except ZeroDivisionError as zde:\n",
        "    print(type(zde), \"Erro: Não é possível dividir por zero.\")\n",
        "\n",
        "except Exception as e:\n",
        "    print(type(e), f\"Erro inesperado: {e}\")\n"
      ]
    },
    {
      "cell_type": "code",
      "source": [
        "\n"
      ],
      "metadata": {
        "id": "XwceP1R-No65"
      },
      "execution_count": null,
      "outputs": []
    }
  ]
}